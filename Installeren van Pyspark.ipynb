{
 "cells": [
  {
   "cell_type": "markdown",
   "metadata": {},
   "source": [
    "# Installeren van Python, Spark en Jupyter\n",
    "\n",
    "Hieronder een guide voor het installeren van Pyspark en Jupyter op Windows 10. \n",
    "Benodigde programma's:\n",
    "- Spark https://spark.apache.org/downloads.html\n",
    "- Python 2.7 (het is me niet gelukt op Spark werkend te krijgen met Python 3.5)\n",
    "- Anaconda (hier zit Jupyter in)\n",
    "- Scala \n",
    "- Java SDK van http://www.oracle.com/technetwork/java/javase/downloads/jdk8-downloads-2133151.html\n", 
    "\n",
    "Python installeren\n",
    "- Download Python 2.7 van de Python website https://www.python.org/downloads/release/python-2713/ \n",
    "\n",
    "Spark installeren en werkend krijgen met Python (pyspark). Deze stappen zijn ook terug te vinden in dit filmpje: https://www.youtube.com/watch?v=omlwDosMGVk&t=636s \n",
    "- Kies hier een release en een versietype (bijvoorbeeld hadoop 2.7) \n",
    "- Kies de pre-build versie\n",
    "- Download de .tgz file\n",
    "- Voor het uitpakken van de .tgz file heb je een unzip programma nodig (bijv 7-zip)\n",
    "- Zorg ervoor dat je Spark uitpakt op je C-schijf. Er mogen namelijk geen spaties of rare tekens in de path verwijzing staan\n",
    "- Unzip de file 2 keer, je krijgt dan een file directory te zien \n",
    "- Pas in Spark/conf de file 'log4j.properties' aan (zie youtube video)\n",
    "- Ga naar Configuratiescherm\\Systeem en beveiliging\\Systeem en dan geavanceerde systeeminstellingen om de benodigde omgevingsvariabelen aan te passen (zie youtube video voor de details)\n",
    "- Download op via deze pagina 'winutils.exe' https://github.com/steveloughran/winutils. Zorg hier dat je de juiste versie download (bijvoorbeeeld hadoop 2.7)\n",
    "- Zet winutils.exe in een nieuwe map op je C-schijf. Noem die map 'winutils'. Maak in die map een submap aan en noem deze 'bin' (C:\\winutils\\bin) \n",
    "- In de commandline zou je nu de spark-shell kunnen opstarten. Ga naar de juiste directory en typ vervolgens: pyspark \n",
    "\n",
    "Anaconda installeren \n",
    "- Kies de juiste versie voor Python (in dit geval dus 2.7)\n",
    "- Installeer Anaconda en zorg ervoor dat je Anaconda toestemming geeft om PATH variabelen aan te maken (dit is een optie in het installatie proces, en de vinkjes staan hiervoor al aan.\n",
    "- Anaconda blijkt moeite te hebben met non-ASCII characters in de path verwijzingen, let hier dus op. \n",
    "\n",
    " Zorg er ook voor dat de volgende variabelen goed staan:\n
    "HADOOP_HOME: even when Spark can run without Hadoop, the version I downloaded is prebuilt for Hadoop 2.6 and looks in the code for it. To fix this inconvenient I set this variable to the folder containing the winutils.exe file
    "JAVA_HOME: usually you already set this variable when you install java but it is better to verify that exist and is correct.
    "SCALA_HOME: the bin folder of the Scala location. If you use the standard location from the installer should be the path in the figure below.
    "SPARK_HOME: the bin folder path of where you uncompressed Spark. Source: https://hernandezpaul.wordpress.com/2016/01/24/apache-spark-installation-on-windows-10/\n",
    
    
    "Jupyter wordt meegeleverd in de Anaconda installatie. Het kan zijn dat je deze nog moet installeren. Dit doe je door de Anaconda Navigator te openen en dan op 'install' te klikken onder Jupyter. Nu moet je alleen nog Jupyter 'koppelen' aan Pyspark. Dit doe je door 2 omgevingsvariabelen (systeemvariabelen) toe te voegen. \n",
    "-  PYSPARK_DRIVER_PYTHON to jupyter \n",
    "- PYSPARK_DRIVER_PYTHON_OPTS to notebook\n",
    "Afbeelding te vinden onderaan deze pagina \"Getting everything to work together\" https://nerdsrule.co/2016/06/15/ipython-notebook-and-spark-setup-for-windows-10/\n",
    "\n",
    "Als je nu 'pyspark' intypt in de commandline, dan opent Jupyter in je browser. \n"
   ]
  }
 ],
 "metadata": {
  "kernelspec": {
   "display_name": "Python 2",
   "language": "python",
   "name": "python2"
  },
  "language_info": {
   "codemirror_mode": {
    "name": "ipython",
    "version": 2
   },
   "file_extension": ".py",
   "mimetype": "text/x-python",
   "name": "python",
   "nbconvert_exporter": "python",
   "pygments_lexer": "ipython2",
   "version": "2.7.13"
  }
 },
 "nbformat": 4,
 "nbformat_minor": 2
}
