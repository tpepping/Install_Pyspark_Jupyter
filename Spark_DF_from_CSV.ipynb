{
 "cells": [
  {
   "cell_type": "markdown",
   "metadata": {},
   "source": [
    "# Spark data frames from CSV files: handling headers & column types"
   ]
  },
  {
   "cell_type": "markdown",
   "metadata": {},
   "source": [
    "Start pyspark with IPython notebook with ``IPYTHON_OPTS=\"notebook\" $SPARK_HOME/bin/pyspark`` from the command prompt"
   ]
  },
  {
   "cell_type": "code",
   "execution_count": 1,
   "metadata": {
    "collapsed": true
   },
   "outputs": [],
   "source": [
    "from pyspark.sql import SQLContext\n",
    "from pyspark.sql.types import *  \n",
    "sqlContext = SQLContext(sc)"
   ]
  },
  {
   "cell_type": "markdown",
   "metadata": {},
   "source": [
    "Change the path in the command below to reflect the directory where you have saved the file ``nyctaxisub.csv``"
   ]
  },
  {
   "cell_type": "code",
   "execution_count": 2,
   "metadata": {
    "collapsed": false
   },
   "outputs": [
    {
     "data": {
      "text/plain": [
       "250000"
      ]
     },
     "execution_count": 2,
     "metadata": {},
     "output_type": "execute_result"
    }
   ],
   "source": [
    "taxiFile = sc.textFile(\"file:///home/ctsats/datasets/BDU_Spark/nyctaxisub.csv\")\n",
    "taxiFile.count()"
   ]
  },
  {
   "cell_type": "code",
   "execution_count": 3,
   "metadata": {
    "collapsed": false
   },
   "outputs": [
    {
     "data": {
      "text/plain": [
       "[u'\"_id\",\"_rev\",\"dropoff_datetime\",\"dropoff_latitude\",\"dropoff_longitude\",\"hack_license\",\"medallion\",\"passenger_count\",\"pickup_datetime\",\"pickup_latitude\",\"pickup_longitude\",\"rate_code\",\"store_and_fwd_flag\",\"trip_distance\",\"trip_time_in_secs\",\"vendor_id\"',\n",
       " u'\"29b3f4a30dea6688d4c289c9672cb996\",\"1-ddfdec8050c7ef4dc694eeeda6c4625e\",\"2013-01-11 22:03:00\",+4.07033460000000E+001,-7.40144200000000E+001,\"A93D1F7F8998FFB75EEF477EB6077516\",\"68BC16A99E915E44ADA7E639B4DD5F59\",2,\"2013-01-11 21:48:00\",+4.06760670000000E+001,-7.39810790000000E+001,1,,+4.08000000000000E+000,900,\"VTS\"']"
      ]
     },
     "execution_count": 3,
     "metadata": {},
     "output_type": "execute_result"
    }
   ],
   "source": [
    "taxiFile.take(2)"
   ]
  },
  {
   "cell_type": "markdown",
   "metadata": {},
   "source": [
    "Let's isolate the header, in order to eventually use it to get the field names:"
   ]
  },
  {
   "cell_type": "code",
   "execution_count": 4,
   "metadata": {
    "collapsed": false
   },
   "outputs": [
    {
     "data": {
      "text/plain": [
       "u'\"_id\",\"_rev\",\"dropoff_datetime\",\"dropoff_latitude\",\"dropoff_longitude\",\"hack_license\",\"medallion\",\"passenger_count\",\"pickup_datetime\",\"pickup_latitude\",\"pickup_longitude\",\"rate_code\",\"store_and_fwd_flag\",\"trip_distance\",\"trip_time_in_secs\",\"vendor_id\"'"
      ]
     },
     "execution_count": 4,
     "metadata": {},
     "output_type": "execute_result"
    }
   ],
   "source": [
    "header = taxiFile.first()\n",
    "header"
   ]
  },
  {
   "cell_type": "markdown",
   "metadata": {},
   "source": [
    "We want to get rid of these double quotes around the field names, and then use the header to build the fields for our schema:"
   ]
  },
  {
   "cell_type": "code",
   "execution_count": 5,
   "metadata": {
    "collapsed": false
   },
   "outputs": [
    {
     "data": {
      "text/plain": [
       "[StructField(_id,StringType,true),\n",
       " StructField(_rev,StringType,true),\n",
       " StructField(dropoff_datetime,StringType,true),\n",
       " StructField(dropoff_latitude,StringType,true),\n",
       " StructField(dropoff_longitude,StringType,true),\n",
       " StructField(hack_license,StringType,true),\n",
       " StructField(medallion,StringType,true),\n",
       " StructField(passenger_count,StringType,true),\n",
       " StructField(pickup_datetime,StringType,true),\n",
       " StructField(pickup_latitude,StringType,true),\n",
       " StructField(pickup_longitude,StringType,true),\n",
       " StructField(rate_code,StringType,true),\n",
       " StructField(store_and_fwd_flag,StringType,true),\n",
       " StructField(trip_distance,StringType,true),\n",
       " StructField(trip_time_in_secs,StringType,true),\n",
       " StructField(vendor_id,StringType,true)]"
      ]
     },
     "execution_count": 5,
     "metadata": {},
     "output_type": "execute_result"
    }
   ],
   "source": [
    "schemaString = header.replace('\"','')\n",
    "fields = [StructField(field_name, StringType(), True) for field_name in schemaString.split(',')]\n",
    "fields"
   ]
  },
  {
   "cell_type": "markdown",
   "metadata": {},
   "source": [
    "How many elements there are in the header (i.e. how many data columns)?"
   ]
  },
  {
   "cell_type": "code",
   "execution_count": 6,
   "metadata": {
    "collapsed": false
   },
   "outputs": [
    {
     "data": {
      "text/plain": [
       "16"
      ]
     },
     "execution_count": 6,
     "metadata": {},
     "output_type": "execute_result"
    }
   ],
   "source": [
    "len(fields)"
   ]
  },
  {
   "cell_type": "markdown",
   "metadata": {},
   "source": [
    "OK, now let's modify the fields which should not be of type ``String``:"
   ]
  },
  {
   "cell_type": "code",
   "execution_count": 7,
   "metadata": {
    "collapsed": false
   },
   "outputs": [
    {
     "data": {
      "text/plain": [
       "[StructField(_id,StringType,true),\n",
       " StructField(_rev,StringType,true),\n",
       " StructField(dropoff_datetime,TimestampType,true),\n",
       " StructField(dropoff_latitude,FloatType,true),\n",
       " StructField(dropoff_longitude,FloatType,true),\n",
       " StructField(hack_license,StringType,true),\n",
       " StructField(medallion,StringType,true),\n",
       " StructField(passenger_count,IntegerType,true),\n",
       " StructField(pickup_datetime,TimestampType,true),\n",
       " StructField(pickup_latitude,FloatType,true),\n",
       " StructField(pickup_longitude,FloatType,true),\n",
       " StructField(rate_code,IntegerType,true),\n",
       " StructField(store_and_fwd_flag,StringType,true),\n",
       " StructField(trip_distance,FloatType,true),\n",
       " StructField(trip_time_in_secs,IntegerType,true),\n",
       " StructField(vendor_id,StringType,true)]"
      ]
     },
     "execution_count": 7,
     "metadata": {},
     "output_type": "execute_result"
    }
   ],
   "source": [
    "fields[2].dataType = TimestampType()\n",
    "fields[3].dataType = FloatType()\n",
    "fields[4].dataType = FloatType()\n",
    "fields[7].dataType = IntegerType()\n",
    "fields[8].dataType = TimestampType()\n",
    "fields[9].dataType = FloatType()\n",
    "fields[10].dataType = FloatType()\n",
    "fields[11].dataType = IntegerType()\n",
    "fields[13].dataType = FloatType()\n",
    "fields[14].dataType = IntegerType()\n",
    "fields"
   ]
  },
  {
   "cell_type": "markdown",
   "metadata": {},
   "source": [
    "Let's also get rid of the leading underscores in the first two field names (``_id`` and ``_rev``):"
   ]
  },
  {
   "cell_type": "code",
   "execution_count": 8,
   "metadata": {
    "collapsed": false
   },
   "outputs": [
    {
     "data": {
      "text/plain": [
       "[StructField(id,StringType,true),\n",
       " StructField(rev,StringType,true),\n",
       " StructField(dropoff_datetime,TimestampType,true),\n",
       " StructField(dropoff_latitude,FloatType,true),\n",
       " StructField(dropoff_longitude,FloatType,true),\n",
       " StructField(hack_license,StringType,true),\n",
       " StructField(medallion,StringType,true),\n",
       " StructField(passenger_count,IntegerType,true),\n",
       " StructField(pickup_datetime,TimestampType,true),\n",
       " StructField(pickup_latitude,FloatType,true),\n",
       " StructField(pickup_longitude,FloatType,true),\n",
       " StructField(rate_code,IntegerType,true),\n",
       " StructField(store_and_fwd_flag,StringType,true),\n",
       " StructField(trip_distance,FloatType,true),\n",
       " StructField(trip_time_in_secs,IntegerType,true),\n",
       " StructField(vendor_id,StringType,true)]"
      ]
     },
     "execution_count": 8,
     "metadata": {},
     "output_type": "execute_result"
    }
   ],
   "source": [
    "fields[0].name = 'id'\n",
    "fields[1].name = 'rev'\n",
    "fields"
   ]
  },
  {
   "cell_type": "markdown",
   "metadata": {},
   "source": [
    "Now that we are satisfied with the data types, we can construct our schema, which we will use later below for building the dataframe:"
   ]
  },
  {
   "cell_type": "code",
   "execution_count": 9,
   "metadata": {
    "collapsed": false
   },
   "outputs": [
    {
     "data": {
      "text/plain": [
       "StructType(List(StructField(id,StringType,true),StructField(rev,StringType,true),StructField(dropoff_datetime,TimestampType,true),StructField(dropoff_latitude,FloatType,true),StructField(dropoff_longitude,FloatType,true),StructField(hack_license,StringType,true),StructField(medallion,StringType,true),StructField(passenger_count,IntegerType,true),StructField(pickup_datetime,TimestampType,true),StructField(pickup_latitude,FloatType,true),StructField(pickup_longitude,FloatType,true),StructField(rate_code,IntegerType,true),StructField(store_and_fwd_flag,StringType,true),StructField(trip_distance,FloatType,true),StructField(trip_time_in_secs,IntegerType,true),StructField(vendor_id,StringType,true)))"
      ]
     },
     "execution_count": 9,
     "metadata": {},
     "output_type": "execute_result"
    }
   ],
   "source": [
    "schema = StructType(fields)\n",
    "schema"
   ]
  },
  {
   "cell_type": "markdown",
   "metadata": {},
   "source": [
    "Isolate the header and drop it off the actual data:"
   ]
  },
  {
   "cell_type": "code",
   "execution_count": 10,
   "metadata": {
    "collapsed": false
   },
   "outputs": [
    {
     "data": {
      "text/plain": [
       "[u'\"_id\",\"_rev\",\"dropoff_datetime\",\"dropoff_latitude\",\"dropoff_longitude\",\"hack_license\",\"medallion\",\"passenger_count\",\"pickup_datetime\",\"pickup_latitude\",\"pickup_longitude\",\"rate_code\",\"store_and_fwd_flag\",\"trip_distance\",\"trip_time_in_secs\",\"vendor_id\"']"
      ]
     },
     "execution_count": 10,
     "metadata": {},
     "output_type": "execute_result"
    }
   ],
   "source": [
    "taxiHeader = taxiFile.filter(lambda l: \"_id\" in l)\n",
    "taxiHeader.collect()"
   ]
  },
  {
   "cell_type": "code",
   "execution_count": 11,
   "metadata": {
    "collapsed": false
   },
   "outputs": [
    {
     "data": {
      "text/plain": [
       "249999"
      ]
     },
     "execution_count": 11,
     "metadata": {},
     "output_type": "execute_result"
    }
   ],
   "source": [
    "taxiNoHeader = taxiFile.subtract(taxiHeader)\n",
    "taxiNoHeader.count()"
   ]
  },
  {
   "cell_type": "markdown",
   "metadata": {},
   "source": [
    "We end up with 249,999 rows, as expected."
   ]
  },
  {
   "cell_type": "markdown",
   "metadata": {},
   "source": [
    "Before parsing the data, we have to import the necessary Python modules to handle ``datetimes``:"
   ]
  },
  {
   "cell_type": "code",
   "execution_count": 12,
   "metadata": {
    "collapsed": false
   },
   "outputs": [
    {
     "data": {
      "text/plain": [
       "datetime.datetime(2013, 2, 9, 18, 16, 10)"
      ]
     },
     "execution_count": 12,
     "metadata": {},
     "output_type": "execute_result"
    }
   ],
   "source": [
    "from datetime import *\n",
    "from dateutil.parser import parse\n",
    "# test it:\n",
    "parse(\"2013-02-09 18:16:10\")"
   ]
  },
  {
   "cell_type": "markdown",
   "metadata": {},
   "source": [
    "We are now ready for our first attempt to parse the data with the correct types. We build a temporary RDD for this purpose - ``taxi_temp``:"
   ]
  },
  {
   "cell_type": "code",
   "execution_count": 13,
   "metadata": {
    "collapsed": false
   },
   "outputs": [
    {
     "data": {
      "text/plain": [
       "[(u'\"fff43e5eb5662eecf42a3f9b5ff42214\"',\n",
       "  u'\"1-2e9ea2f49a29663d699d1940f42fab66\"',\n",
       "  datetime.datetime(2013, 11, 26, 13, 15),\n",
       "  40.764915,\n",
       "  -73.982536,\n",
       "  u'\"564F38A1BC4B1AA7EC528E6C2C81EAAC\"',\n",
       "  u'\"3E29713986A6762D985C4FC53B177F61\"',\n",
       "  1,\n",
       "  datetime.datetime(2013, 11, 26, 13, 2),\n",
       "  40.786667,\n",
       "  -73.972023,\n",
       "  1,\n",
       "  u'',\n",
       "  1.87,\n",
       "  780,\n",
       "  u'\"VTS\"'),\n",
       " (u'\"fff43e5eb5662eecf42a3f9b5ff1fc5b\"',\n",
       "  u'\"1-18b010dab3a3f83ebf4b9f31e88c615d\"',\n",
       "  datetime.datetime(2013, 11, 26, 3, 59),\n",
       "  40.686081,\n",
       "  -73.952072,\n",
       "  u'\"5E3208C5FA0E44EA08223489E3853EAD\"',\n",
       "  u'\"DC67FC4851D7642EDCA34A8A3C44F116\"',\n",
       "  1,\n",
       "  datetime.datetime(2013, 11, 26, 3, 42),\n",
       "  40.740715,\n",
       "  -74.004562,\n",
       "  1,\n",
       "  u'',\n",
       "  5.84,\n",
       "  1020,\n",
       "  u'\"VTS\"')]"
      ]
     },
     "execution_count": 13,
     "metadata": {},
     "output_type": "execute_result"
    }
   ],
   "source": [
    "taxi_temp = taxiNoHeader.map(lambda k: k.split(\",\")).map(lambda p: (p[0], p[1], parse(p[2].strip('\"')), float(p[3]), float(p[4]) , p[5], p[6] , int(p[7]), parse(p[8].strip('\"')), float(p[9]), float(p[10]), int(p[11]), p[12], float(p[13]), int(p[14]), p[15] ))\n",
    "taxi_temp.top(2)"
   ]
  },
  {
   "cell_type": "markdown",
   "metadata": {},
   "source": [
    "Finally, let's build our dataframe, using the ``taxi_temp`` RDD just produced and the ``schema`` variable computed above:"
   ]
  },
  {
   "cell_type": "code",
   "execution_count": 14,
   "metadata": {
    "collapsed": false
   },
   "outputs": [
    {
     "data": {
      "text/plain": [
       "[Row(id=u'\"e6b3fa7bee24a30c25ce87e44e714457\"', rev=u'\"1-9313152f4894bb47678d8ce98e9ec733\"', dropoff_datetime=datetime.datetime(2013, 2, 9, 18, 16), dropoff_latitude=40.73524856567383, dropoff_longitude=-73.99406433105469, hack_license=u'\"88F8DD623E5090083988CD32C84973E3\"', medallion=u'\"6B96DDFB5A50B96E72F5808ABE778B17\"', passenger_count=1, pickup_datetime=datetime.datetime(2013, 2, 9, 17, 59), pickup_latitude=40.775123596191406, pickup_longitude=-73.96345520019531, rate_code=1, store_and_fwd_flag=u'', trip_distance=3.4600000381469727, trip_time_in_secs=1020, vendor_id=u'\"VTS\"'),\n",
       " Row(id=u'\"cbee283a4613f85af67f79c6d7721234\"', rev=u'\"1-c1bd2aecbf3936b30c486aa3deade97b\"', dropoff_datetime=datetime.datetime(2013, 1, 11, 17, 2), dropoff_latitude=40.826969146728516, dropoff_longitude=-73.94998931884766, hack_license=u'\"5514E59A5CEA0379EA6F7F12ABE87489\"', medallion=u'\"3541D0677EEEA07B67E645E12F04F517\"', passenger_count=1, pickup_datetime=datetime.datetime(2013, 1, 11, 16, 29), pickup_latitude=40.77362823486328, pickup_longitude=-73.87080383300781, rate_code=1, store_and_fwd_flag=u'', trip_distance=8.229999542236328, trip_time_in_secs=1980, vendor_id=u'\"VTS\"')]"
      ]
     },
     "execution_count": 14,
     "metadata": {},
     "output_type": "execute_result"
    }
   ],
   "source": [
    "taxi_df = sqlContext.createDataFrame(taxi_temp, schema)\n",
    "taxi_df.head(2)"
   ]
  },
  {
   "cell_type": "markdown",
   "metadata": {},
   "source": [
    "We see that we still have quotes-within-quotes in our ``StringType`` variables. We make a second attempt, this time using Spark's ``rdd.toDF()`` method, in order to build the dataframe directly from ``taxiNoHeader`` RDD, without invoking the temporary ``taxi_temp`` RDD:"
   ]
  },
  {
   "cell_type": "code",
   "execution_count": 15,
   "metadata": {
    "collapsed": false
   },
   "outputs": [
    {
     "data": {
      "text/plain": [
       "[Row(id=u'e6b3fa7bee24a30c25ce87e44e714457', rev=u'1-9313152f4894bb47678d8ce98e9ec733', dropoff_datetime=datetime.datetime(2013, 2, 9, 18, 16), dropoff_latitude=40.73524856567383, dropoff_longitude=-73.99406433105469, hack_license=u'88F8DD623E5090083988CD32C84973E3', medallion=u'6B96DDFB5A50B96E72F5808ABE778B17', passenger_count=1, pickup_datetime=datetime.datetime(2013, 2, 9, 17, 59), pickup_latitude=40.775123596191406, pickup_longitude=-73.96345520019531, rate_code=1, store_and_fwd_flag=u'', trip_distance=3.4600000381469727, trip_time_in_secs=1020, vendor_id=u'VTS'),\n",
       " Row(id=u'cbee283a4613f85af67f79c6d7721234', rev=u'1-c1bd2aecbf3936b30c486aa3deade97b', dropoff_datetime=datetime.datetime(2013, 1, 11, 17, 2), dropoff_latitude=40.826969146728516, dropoff_longitude=-73.94998931884766, hack_license=u'5514E59A5CEA0379EA6F7F12ABE87489', medallion=u'3541D0677EEEA07B67E645E12F04F517', passenger_count=1, pickup_datetime=datetime.datetime(2013, 1, 11, 16, 29), pickup_latitude=40.77362823486328, pickup_longitude=-73.87080383300781, rate_code=1, store_and_fwd_flag=u'', trip_distance=8.229999542236328, trip_time_in_secs=1980, vendor_id=u'VTS')]"
      ]
     },
     "execution_count": 15,
     "metadata": {},
     "output_type": "execute_result"
    }
   ],
   "source": [
    "taxi_df = taxiNoHeader.map(lambda k: k.split(\",\")).map(lambda p: (p[0].strip('\"'), p[1].strip('\"'), parse(p[2].strip('\"')), float(p[3]), float(p[4]) , p[5].strip('\"'), p[6].strip('\"') , int(p[7]), parse(p[8].strip('\"')), float(p[9]), float(p[10]), int(p[11]), p[12].strip('\"'), float(p[13]), int(p[14]), p[15].strip('\"')) ).toDF(schema)\n",
    "taxi_df.head(2)"
   ]
  },
  {
   "cell_type": "markdown",
   "metadata": {},
   "source": [
    "Let's run some simple pandas-like queries. How many records per vendor are there in the dataset?"
   ]
  },
  {
   "cell_type": "code",
   "execution_count": 16,
   "metadata": {
    "collapsed": false
   },
   "outputs": [
    {
     "name": "stdout",
     "output_type": "stream",
     "text": [
      "vendor_id count \n",
      "CMT       114387\n",
      "VTS       135612\n"
     ]
    }
   ],
   "source": [
    "taxi_df.groupBy(\"vendor_id\").count().show()"
   ]
  },
  {
   "cell_type": "markdown",
   "metadata": {},
   "source": [
    "Recall that we have missing values in the field ``store_and_fwd_flag``. How many are they?"
   ]
  },
  {
   "cell_type": "code",
   "execution_count": 17,
   "metadata": {
    "collapsed": false
   },
   "outputs": [
    {
     "data": {
      "text/plain": [
       "135616L"
      ]
     },
     "execution_count": 17,
     "metadata": {},
     "output_type": "execute_result"
    }
   ],
   "source": [
    "taxi_df.filter(taxi_df.store_and_fwd_flag == '').count()"
   ]
  },
  {
   "cell_type": "markdown",
   "metadata": {},
   "source": [
    "OK, the number of missing values is dangerously close to the number of ``VTS`` vendor records. Is this a coincidence, or vendor ``VTS`` indeed tends not to log the subject variable?"
   ]
  },
  {
   "cell_type": "code",
   "execution_count": 18,
   "metadata": {
    "collapsed": false
   },
   "outputs": [
    {
     "data": {
      "text/plain": [
       "135612L"
      ]
     },
     "execution_count": 18,
     "metadata": {},
     "output_type": "execute_result"
    }
   ],
   "source": [
    "taxi_df.filter(taxi_df.store_and_fwd_flag == '' and taxi_df.vendor_id == 'VTS').count()"
   ]
  },
  {
   "cell_type": "markdown",
   "metadata": {},
   "source": [
    "Well, we have a finding! Indeed, all records coming from ``VTS`` vendor have missing value in the subject field..."
   ]
  },
  {
   "cell_type": "markdown",
   "metadata": {},
   "source": [
    "``dtypes`` and ``printSchema()`` methods can be used to get information about the schema:"
   ]
  },
  {
   "cell_type": "code",
   "execution_count": 19,
   "metadata": {
    "collapsed": false
   },
   "outputs": [
    {
     "data": {
      "text/plain": [
       "[('id', 'string'),\n",
       " ('rev', 'string'),\n",
       " ('dropoff_datetime', 'timestamp'),\n",
       " ('dropoff_latitude', 'float'),\n",
       " ('dropoff_longitude', 'float'),\n",
       " ('hack_license', 'string'),\n",
       " ('medallion', 'string'),\n",
       " ('passenger_count', 'int'),\n",
       " ('pickup_datetime', 'timestamp'),\n",
       " ('pickup_latitude', 'float'),\n",
       " ('pickup_longitude', 'float'),\n",
       " ('rate_code', 'int'),\n",
       " ('store_and_fwd_flag', 'string'),\n",
       " ('trip_distance', 'float'),\n",
       " ('trip_time_in_secs', 'int'),\n",
       " ('vendor_id', 'string')]"
      ]
     },
     "execution_count": 19,
     "metadata": {},
     "output_type": "execute_result"
    }
   ],
   "source": [
    "taxi_df.dtypes"
   ]
  },
  {
   "cell_type": "code",
   "execution_count": 20,
   "metadata": {
    "collapsed": false
   },
   "outputs": [
    {
     "name": "stdout",
     "output_type": "stream",
     "text": [
      "root\n",
      " |-- id: string (nullable = true)\n",
      " |-- rev: string (nullable = true)\n",
      " |-- dropoff_datetime: timestamp (nullable = true)\n",
      " |-- dropoff_latitude: float (nullable = true)\n",
      " |-- dropoff_longitude: float (nullable = true)\n",
      " |-- hack_license: string (nullable = true)\n",
      " |-- medallion: string (nullable = true)\n",
      " |-- passenger_count: integer (nullable = true)\n",
      " |-- pickup_datetime: timestamp (nullable = true)\n",
      " |-- pickup_latitude: float (nullable = true)\n",
      " |-- pickup_longitude: float (nullable = true)\n",
      " |-- rate_code: integer (nullable = true)\n",
      " |-- store_and_fwd_flag: string (nullable = true)\n",
      " |-- trip_distance: float (nullable = true)\n",
      " |-- trip_time_in_secs: integer (nullable = true)\n",
      " |-- vendor_id: string (nullable = true)\n",
      "\n"
     ]
    }
   ],
   "source": [
    "taxi_df.printSchema()"
   ]
  },
  {
   "cell_type": "markdown",
   "metadata": {},
   "source": [
    "We can run the SQL equivalent of the above pandas-like queries. First, we have to register the dataframe as a named temporary table, let's say ``taxi``:"
   ]
  },
  {
   "cell_type": "code",
   "execution_count": 21,
   "metadata": {
    "collapsed": true
   },
   "outputs": [],
   "source": [
    "taxi_df.registerTempTable(\"taxi\")"
   ]
  },
  {
   "cell_type": "code",
   "execution_count": 22,
   "metadata": {
    "collapsed": false
   },
   "outputs": [
    {
     "name": "stdout",
     "output_type": "stream",
     "text": [
      "vendor_id c1    \n",
      "CMT       114387\n",
      "VTS       135612\n"
     ]
    }
   ],
   "source": [
    "sqlContext.sql(\"SELECT vendor_id, COUNT(*) FROM taxi GROUP BY vendor_id \").show()"
   ]
  },
  {
   "cell_type": "code",
   "execution_count": 23,
   "metadata": {
    "collapsed": false
   },
   "outputs": [
    {
     "name": "stdout",
     "output_type": "stream",
     "text": [
      "c0    \n",
      "135616\n"
     ]
    }
   ],
   "source": [
    "sqlContext.sql(\"SELECT COUNT(*) FROM taxi WHERE store_and_fwd_flag = '' \").show()"
   ]
  },
  {
   "cell_type": "code",
   "execution_count": 24,
   "metadata": {
    "collapsed": false
   },
   "outputs": [
    {
     "name": "stdout",
     "output_type": "stream",
     "text": [
      "c0    \n",
      "135612\n"
     ]
    }
   ],
   "source": [
    "sqlContext.sql(\"SELECT COUNT(*) FROM taxi WHERE vendor_id = 'VTS' AND store_and_fwd_flag = '' \").show()"
   ]
  },
  {
   "cell_type": "markdown",
   "metadata": {},
   "source": [
    "Notice that, unlike standard SQL, table and column names are case sensitive, i.e. ``TAXI`` or ``vendor_ID`` in the queries will produce an error."
   ]
  },
  {
   "cell_type": "markdown",
   "metadata": {},
   "source": [
    "Let's change some column names to shorter versions:"
   ]
  },
  {
   "cell_type": "code",
   "execution_count": 25,
   "metadata": {
    "collapsed": false
   },
   "outputs": [],
   "source": [
    "taxi_df = taxi_df.withColumnRenamed('dropoff_longitude', 'dropoff_long').withColumnRenamed('dropoff_latitude', 'dropoff_lat').withColumnRenamed('pickup_latitude', 'pickup_lat').withColumnRenamed('pickup_longitude', 'pickup_long')"
   ]
  },
  {
   "cell_type": "code",
   "execution_count": 26,
   "metadata": {
    "collapsed": false
   },
   "outputs": [
    {
     "data": {
      "text/plain": [
       "[('id', 'string'),\n",
       " ('rev', 'string'),\n",
       " ('dropoff_datetime', 'timestamp'),\n",
       " ('dropoff_lat', 'float'),\n",
       " ('dropoff_long', 'float'),\n",
       " ('hack_license', 'string'),\n",
       " ('medallion', 'string'),\n",
       " ('passenger_count', 'int'),\n",
       " ('pickup_datetime', 'timestamp'),\n",
       " ('pickup_lat', 'float'),\n",
       " ('pickup_long', 'float'),\n",
       " ('rate_code', 'int'),\n",
       " ('store_and_fwd_flag', 'string'),\n",
       " ('trip_distance', 'float'),\n",
       " ('trip_time_in_secs', 'int'),\n",
       " ('vendor_id', 'string')]"
      ]
     },
     "execution_count": 26,
     "metadata": {},
     "output_type": "execute_result"
    }
   ],
   "source": [
    "taxi_df.dtypes"
   ]
  },
  {
   "cell_type": "markdown",
   "metadata": {},
   "source": [
    "Finally, let's make a row selection and store the results to a pandas dataframe:"
   ]
  },
  {
   "cell_type": "code",
   "execution_count": 27,
   "metadata": {
    "collapsed": true
   },
   "outputs": [],
   "source": [
    "import pandas as pd\n",
    "taxi_CMT = taxi_df.filter(\"vendor_id = 'CMT' and store_and_fwd_flag != '' \").toPandas()"
   ]
  },
  {
   "cell_type": "code",
   "execution_count": 28,
   "metadata": {
    "collapsed": false
   },
   "outputs": [
    {
     "data": {
      "text/html": [
       "<div style=\"max-height:1000px;max-width:1500px;overflow:auto;\">\n",
       "<table border=\"1\" class=\"dataframe\">\n",
       "  <thead>\n",
       "    <tr style=\"text-align: right;\">\n",
       "      <th></th>\n",
       "      <th>id</th>\n",
       "      <th>rev</th>\n",
       "      <th>dropoff_datetime</th>\n",
       "      <th>dropoff_lat</th>\n",
       "      <th>dropoff_long</th>\n",
       "      <th>hack_license</th>\n",
       "      <th>medallion</th>\n",
       "      <th>passenger_count</th>\n",
       "      <th>pickup_datetime</th>\n",
       "      <th>pickup_lat</th>\n",
       "      <th>pickup_long</th>\n",
       "      <th>rate_code</th>\n",
       "      <th>store_and_fwd_flag</th>\n",
       "      <th>trip_distance</th>\n",
       "      <th>trip_time_in_secs</th>\n",
       "      <th>vendor_id</th>\n",
       "    </tr>\n",
       "  </thead>\n",
       "  <tbody>\n",
       "    <tr>\n",
       "      <th>0</th>\n",
       "      <td> e4fb64b76eb99d4ac222713eb36f1afb</td>\n",
       "      <td> 1-233ff643b7f105b7a76ec05cf4f0f6db</td>\n",
       "      <td>2013-11-26 11:51:40</td>\n",
       "      <td> 40.762070</td>\n",
       "      <td>-73.968262</td>\n",
       "      <td> 912A2B86F30CDFE246586972A892367E</td>\n",
       "      <td> F3241FAB90B4B14FC46C3F11CC14B79E</td>\n",
       "      <td> 1</td>\n",
       "      <td>2013-11-26 11:36:54</td>\n",
       "      <td> 40.779324</td>\n",
       "      <td>-73.977455</td>\n",
       "      <td> 1</td>\n",
       "      <td> N</td>\n",
       "      <td> 1.7</td>\n",
       "      <td>  886</td>\n",
       "      <td> CMT</td>\n",
       "    </tr>\n",
       "    <tr>\n",
       "      <th>1</th>\n",
       "      <td> a0dbc88f34c35a620c3a33af7d447bb2</td>\n",
       "      <td> 1-09c485081ed511298abe1d5a0a976e67</td>\n",
       "      <td>2013-02-11 20:31:18</td>\n",
       "      <td> 40.795536</td>\n",
       "      <td>-73.966873</td>\n",
       "      <td> 4CDB4439568A22F50E68E6C767583F0E</td>\n",
       "      <td> A5A8269908F5D906140559A300992053</td>\n",
       "      <td> 1</td>\n",
       "      <td>2013-02-11 20:14:06</td>\n",
       "      <td> 40.739632</td>\n",
       "      <td>-74.002670</td>\n",
       "      <td> 1</td>\n",
       "      <td> N</td>\n",
       "      <td> 5.3</td>\n",
       "      <td> 1031</td>\n",
       "      <td> CMT</td>\n",
       "    </tr>\n",
       "    <tr>\n",
       "      <th>2</th>\n",
       "      <td> 22d54bc53694ffa796879114d35dde53</td>\n",
       "      <td> 1-239114ce02a0b43667c2f5db2bb5d34f</td>\n",
       "      <td>2013-11-26 08:59:34</td>\n",
       "      <td> 40.755272</td>\n",
       "      <td>-73.972351</td>\n",
       "      <td> C5ADEC336825DEB30222ED03016EC2EA</td>\n",
       "      <td> AD1848EF6C8D8D832D8E9C8A83D58E32</td>\n",
       "      <td> 1</td>\n",
       "      <td>2013-11-26 08:41:52</td>\n",
       "      <td> 40.770805</td>\n",
       "      <td>-73.950882</td>\n",
       "      <td> 1</td>\n",
       "      <td> N</td>\n",
       "      <td> 2.1</td>\n",
       "      <td> 1061</td>\n",
       "      <td> CMT</td>\n",
       "    </tr>\n",
       "    <tr>\n",
       "      <th>3</th>\n",
       "      <td> 57cf267a1fe6533edd94a5883b904a60</td>\n",
       "      <td> 1-0c2111ef3fbd25eb1775ce3fc460de29</td>\n",
       "      <td>2013-11-26 12:37:56</td>\n",
       "      <td> 40.734100</td>\n",
       "      <td>-73.988892</td>\n",
       "      <td> 107A492A8269674DF2174B2A33D751C5</td>\n",
       "      <td> 87D6A5AF77EA7F5F31213AADB50B7508</td>\n",
       "      <td> 1</td>\n",
       "      <td>2013-11-26 12:24:24</td>\n",
       "      <td> 40.703072</td>\n",
       "      <td>-74.011734</td>\n",
       "      <td> 1</td>\n",
       "      <td> N</td>\n",
       "      <td> 4.4</td>\n",
       "      <td>  811</td>\n",
       "      <td> CMT</td>\n",
       "    </tr>\n",
       "    <tr>\n",
       "      <th>4</th>\n",
       "      <td> 952ae0acb1d3a1dcbe4dbdebbabd81b5</td>\n",
       "      <td> 1-cef51bf1e73f95a3426e974cf6c750e2</td>\n",
       "      <td>2013-02-11 14:32:20</td>\n",
       "      <td> 40.772598</td>\n",
       "      <td>-73.982445</td>\n",
       "      <td> 711FF480F454257CDB3DD2E67A080687</td>\n",
       "      <td> 271217702A1E3484D03FE5B2B3E49146</td>\n",
       "      <td> 1</td>\n",
       "      <td>2013-02-11 14:17:00</td>\n",
       "      <td> 40.797695</td>\n",
       "      <td>-73.971397</td>\n",
       "      <td> 1</td>\n",
       "      <td> N</td>\n",
       "      <td> 1.9</td>\n",
       "      <td>  919</td>\n",
       "      <td> CMT</td>\n",
       "    </tr>\n",
       "  </tbody>\n",
       "</table>\n",
       "<p>5 rows × 16 columns</p>\n",
       "</div>"
      ],
      "text/plain": [
       "                                 id                                 rev  \\\n",
       "0  e4fb64b76eb99d4ac222713eb36f1afb  1-233ff643b7f105b7a76ec05cf4f0f6db   \n",
       "1  a0dbc88f34c35a620c3a33af7d447bb2  1-09c485081ed511298abe1d5a0a976e67   \n",
       "2  22d54bc53694ffa796879114d35dde53  1-239114ce02a0b43667c2f5db2bb5d34f   \n",
       "3  57cf267a1fe6533edd94a5883b904a60  1-0c2111ef3fbd25eb1775ce3fc460de29   \n",
       "4  952ae0acb1d3a1dcbe4dbdebbabd81b5  1-cef51bf1e73f95a3426e974cf6c750e2   \n",
       "\n",
       "     dropoff_datetime  dropoff_lat  dropoff_long  \\\n",
       "0 2013-11-26 11:51:40    40.762070    -73.968262   \n",
       "1 2013-02-11 20:31:18    40.795536    -73.966873   \n",
       "2 2013-11-26 08:59:34    40.755272    -73.972351   \n",
       "3 2013-11-26 12:37:56    40.734100    -73.988892   \n",
       "4 2013-02-11 14:32:20    40.772598    -73.982445   \n",
       "\n",
       "                       hack_license                         medallion  \\\n",
       "0  912A2B86F30CDFE246586972A892367E  F3241FAB90B4B14FC46C3F11CC14B79E   \n",
       "1  4CDB4439568A22F50E68E6C767583F0E  A5A8269908F5D906140559A300992053   \n",
       "2  C5ADEC336825DEB30222ED03016EC2EA  AD1848EF6C8D8D832D8E9C8A83D58E32   \n",
       "3  107A492A8269674DF2174B2A33D751C5  87D6A5AF77EA7F5F31213AADB50B7508   \n",
       "4  711FF480F454257CDB3DD2E67A080687  271217702A1E3484D03FE5B2B3E49146   \n",
       "\n",
       "   passenger_count     pickup_datetime  pickup_lat  pickup_long  rate_code  \\\n",
       "0                1 2013-11-26 11:36:54   40.779324   -73.977455          1   \n",
       "1                1 2013-02-11 20:14:06   40.739632   -74.002670          1   \n",
       "2                1 2013-11-26 08:41:52   40.770805   -73.950882          1   \n",
       "3                1 2013-11-26 12:24:24   40.703072   -74.011734          1   \n",
       "4                1 2013-02-11 14:17:00   40.797695   -73.971397          1   \n",
       "\n",
       "  store_and_fwd_flag  trip_distance  trip_time_in_secs vendor_id  \n",
       "0                  N            1.7                886       CMT  \n",
       "1                  N            5.3               1031       CMT  \n",
       "2                  N            2.1               1061       CMT  \n",
       "3                  N            4.4                811       CMT  \n",
       "4                  N            1.9                919       CMT  \n",
       "\n",
       "[5 rows x 16 columns]"
      ]
     },
     "execution_count": 28,
     "metadata": {},
     "output_type": "execute_result"
    }
   ],
   "source": [
    "taxi_CMT.head()"
   ]
  }
 ],
 "metadata": {
  "kernelspec": {
   "display_name": "Python 2",
   "language": "python",
   "name": "python2"
  },
  "language_info": {
   "codemirror_mode": {
    "name": "ipython",
    "version": 2
   },
   "file_extension": ".py",
   "mimetype": "text/x-python",
   "name": "python",
   "nbconvert_exporter": "python",
   "pygments_lexer": "ipython2",
   "version": "2.7.6"
  }
 },
 "nbformat": 4,
 "nbformat_minor": 0
}
